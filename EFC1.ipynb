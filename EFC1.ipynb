{
  "nbformat": 4,
  "nbformat_minor": 0,
  "metadata": {
    "colab": {
      "name": "EFC1.ipynb",
      "provenance": [],
      "toc_visible": true,
      "collapsed_sections": [],
      "authorship_tag": "ABX9TyNHGjLiTcd3SFpFAkkYjEZy",
      "include_colab_link": true
    },
    "kernelspec": {
      "name": "python3",
      "display_name": "Python 3"
    },
    "language_info": {
      "name": "python"
    }
  },
  "cells": [
    {
      "cell_type": "markdown",
      "metadata": {
        "id": "view-in-github",
        "colab_type": "text"
      },
      "source": [
        "<a href=\"https://colab.research.google.com/github/IgorFreiredeMorais/Cpa/blob/main/EFC1.ipynb\" target=\"_parent\"><img src=\"https://colab.research.google.com/assets/colab-badge.svg\" alt=\"Open In Colab\"/></a>"
      ]
    },
    {
      "cell_type": "markdown",
      "source": [
        "# EFC1 GCC253 - Complexidade e Projeto de Algoritmos\n",
        "\n",
        "\n",
        "> **Prof.: Douglas H. S. Abreu**\n",
        "\n",
        "\n",
        "**Aluno**: Igor Freire de Morais\n",
        "\n",
        "**Matricula** : 201911142\n",
        "\n",
        "**Turma**: 10A, 14A\n",
        "\n",
        "Link do repositório GitHub: \n",
        "\n",
        "● O trabalho deve ser feito em grupos de no máximo 2 componentes (todos devem enviar a atividade no Campus Virtual)\n",
        "\n",
        "● Trabalhos entregues após a data limite não serão aceitos\n",
        "\n",
        "● Data limite de entrega: 24 de Julho de 2022 : 23h55m\n",
        "\n",
        "● Enviar o trabalho para o campus virtual, do seguinte modo: link do repositório GitHub e do Colab para acesso ao Notebook. A Documentação deve estar no readme\n",
        "\n",
        "● O trabalho deve ser desenvolvido no modelo Notebook utilizando a linguagem Python"
      ],
      "metadata": {
        "id": "E1luq0z6SNu1"
      }
    },
    {
      "cell_type": "markdown",
      "source": [
        "#Main"
      ],
      "metadata": {
        "id": "ec2sadG1qMsW"
      }
    },
    {
      "cell_type": "code",
      "source": [
        "arrayAleatorio = gera_arranjos_aleatorio(100)\n",
        "melhorCaso = np.arange(100)\n",
        "piorCaso = np.arange(99, 0, -1)\n",
        "resultadoAleatorio = insertionSort(arrayAleatorio)\n",
        "resultadoMelhorCaso = insertionSort(melhorCaso)\n",
        "resultadoPiorCaso = insertionSort(piorCaso)\n",
        "\n",
        "arrayTempoAleatorio = []\n",
        "arrayMelhorCaso = []\n",
        "arrayPiorCaso = []\n",
        "\n",
        "print(\"\")\n",
        "#print(\"Array aleatório Ordenado:\", resultadoAleatorio[0])\n",
        "print(\"O tempo de execução foi de {:.5f}\" .format(resultadoAleatorio[1]),\"segundos\")\n",
        "print(\"\")\n",
        "#print(\"Array melhor caso ordenado:\", resultadoMelhorCaso[0])\n",
        "print(\"O tempo de execução foi de {:.5f}\" .format(resultadoMelhorCaso[1]),\"segundos\")\n",
        "print(\"\")\n",
        "#print(\"Array pior caso ordenado:\", resultadoPiorCaso[0])\n",
        "print(\"O tempo de execução foi de {:.5f}\" .format(resultadoPiorCaso[1]),\"segundos\")\n",
        "\n",
        "auxAleatorio = []\n",
        "auxMelhorCaso = []\n",
        "auxPiorCaso = []\n",
        "for a in range(5,100):\n",
        "  aleatorio = gera_arranjos_aleatorio(a)\n",
        "  auxAleatorio.append(tempo(insertionSort, aleatorio))\n",
        "  melhorCaso = np.arange(a)\n",
        "  auxMelhorCaso.append(tempo(insertionSort, melhorCaso))\n",
        "  piorCaso = np.arange(a, 0, -1)\n",
        "  auxPiorCaso.append(tempo(insertionSort, piorCaso))\n",
        "\n",
        "print(\"\")\n",
        "print(\"Gráfico do Tempo Insertion Sort\")\n",
        "print(\"\")\n",
        "fig, ax = plt.subplots()\n",
        "ax.plot(auxPiorCaso, label=\"Pior Caso\")\n",
        "ax.legend()\n",
        "ax.plot(auxAleatorio, label=\"Aleatorio\")\n",
        "ax.legend()\n",
        "ax.plot(auxMelhorCaso, label=\"Melhor Caso\")\n",
        "ax.legend()\n",
        "plt.show()\n",
        "\n",
        "### Bubble Sort\n",
        "\n",
        "arrayAleatorioBubble = gera_arranjos_aleatorio(100)\n",
        "melhorCasoBubble = np.arange(100)\n",
        "piorCasoBubble = np.arange(99, 0, -1)\n",
        "resultadoAleatorioBubble = bubble_sort(arrayAleatorioBubble)\n",
        "resultadoMelhorCasoBubble = bubble_sort(melhorCasoBubble)\n",
        "resultadoPiorCasoBubble = bubble_sort(piorCasoBubble)\n",
        "\n",
        "arrayTempoAleatorioBubble = []\n",
        "arrayMelhorCasoBubble = []\n",
        "arrayPiorCasoBubble = []\n",
        "\n",
        "arrayTempoAleatorio = resultadoAleatorioBubble[2]\n",
        "arrayMelhorCaso = resultadoMelhorCasoBubble[2]\n",
        "arrayPiorCaso = resultadoPiorCasoBubble[2]\n",
        "\n",
        "auxAleatorio = []\n",
        "auxMelhorCaso = []\n",
        "auxPiorCaso = []\n",
        "for a in range(5,100):\n",
        "  aleatorio = gera_arranjos_aleatorio(a)\n",
        "  auxAleatorio.append(tempo(bubble_sort, aleatorio))\n",
        "  melhorCaso = np.arange(a)\n",
        "  auxMelhorCaso.append(tempo(bubble_sort, melhorCaso))\n",
        "  piorCaso = np.arange(a, 0, -1)\n",
        "  auxPiorCaso.append(tempo(bubble_sort, piorCaso))\n",
        "\n",
        "print(\"\")\n",
        "#print(\"Array aleatório Ordenado:\", resultadoAleatorio[0])\n",
        "print(\"O tempo de execução foi de {:.5f}\" .format(resultadoAleatorioBubble[1]),\"segundos\")\n",
        "print(\"\")\n",
        "#print(\"Array melhor caso ordenado:\", resultadoMelhorCaso[0])\n",
        "print(\"O tempo de execução foi de {:.5f}\" .format(resultadoMelhorCasoBubble[1]),\"segundos\")\n",
        "print(\"\")\n",
        "#print(\"Array pior caso ordenado:\", resultadoPiorCaso[0])\n",
        "print(\"O tempo de execução foi de {:.5f}\" .format(resultadoPiorCasoBubble[1]),\"segundos\")\n",
        "print(\"\")\n",
        "print(\"Gráfico do Tempo Bubble Sort\")\n",
        "print(\"\")\n",
        "fig, ax = plt.subplots()\n",
        "ax.plot(auxPiorCaso, label=\"Pior Caso\")\n",
        "ax.legend()\n",
        "ax.plot(auxAleatorio, label=\"Aleatorio\")\n",
        "ax.legend()\n",
        "ax.plot(auxMelhorCaso, label=\"Melhor Caso\")\n",
        "ax.legend()\n",
        "plt.show()\n",
        "\n",
        "### Heap Sort\n",
        "\n",
        "arrayAleatorioHeap = gera_arranjos_aleatorio(1000)\n",
        "piorCasoHeap = np.arange(1000)\n",
        "melhorCasoHeap = np.arange(1000, 0, -1)\n",
        "resultadoAleatorioHeap = heapSort(arrayAleatorioHeap)\n",
        "resultadoMelhorCasoHeap = heapSort(melhorCasoHeap)\n",
        "resultadoPiorCasoHeap = heapSort(piorCasoHeap)\n",
        "\n",
        "arrayTempoAleatorioHeap = []\n",
        "arrayMelhorCasoHeap = []\n",
        "arrayPiorCasoHeap = []\n",
        "\n",
        "auxAleatorio = []\n",
        "auxMelhorCaso = []\n",
        "auxPiorCaso = []\n",
        "for a in range(5,100):\n",
        "  aleatorio = gera_arranjos_aleatorio(a)\n",
        "  auxAleatorio.append(tempo(heapSort, aleatorio))\n",
        "  melhorCaso = np.arange(a)\n",
        "  auxMelhorCaso.append(tempo(heapSort, melhorCaso))\n",
        "  piorCaso = np.arange(a, 0, -1)\n",
        "  auxPiorCaso.append(tempo(heapSort, piorCaso))\n",
        "print(\"\")\n",
        "print(\"Gráfico do Tempo Heap Sort\")\n",
        "print(\"\")\n",
        "print(\"\")\n",
        "fig, ax = plt.subplots()\n",
        "ax.plot(auxMelhorCaso, label=\"Pior Caso\")\n",
        "ax.legend()\n",
        "ax.plot(auxAleatorio, label=\"Aleatorio\")\n",
        "ax.legend()\n",
        "ax.plot(auxPiorCaso, label=\"Melhor Caso\")\n",
        "ax.legend()\n",
        "plt.show()\n",
        "\n",
        "\n",
        "### Selection Sort\n",
        "\n",
        "arrayAleatorioSelection = gera_arranjos_aleatorio(100)\n",
        "melhorCasoSelection = np.arange(100)\n",
        "piorCasoSelection = np.arange(99, 0, -1)\n",
        "resultadoAleatorioSelection = selectionSort(arrayAleatorioSelection)\n",
        "resultadoMelhorCasoSelection = selectionSort(melhorCasoSelection)\n",
        "resultadoPiorCasoSelection = selectionSort(piorCasoSelection)\n",
        "\n",
        "arrayTempoAleatorioSelection = []\n",
        "arrayMelhorCasoSelection = []\n",
        "arrayPiorCasoSelection = []\n",
        "\n",
        "auxAleatorio = []\n",
        "auxMelhorCaso = []\n",
        "auxPiorCaso = []\n",
        "for a in range(5,100):\n",
        "  aleatorio = gera_arranjos_aleatorio(a)\n",
        "  auxAleatorio.append(tempo(selectionSort, aleatorio))\n",
        "  melhorCaso = np.arange(a)\n",
        "  auxMelhorCaso.append(tempo(selectionSort, melhorCaso))\n",
        "  piorCaso = np.arange(a, 0, -1)\n",
        "  auxPiorCaso.append(tempo(selectionSort, piorCaso))\n",
        "print(\"\")\n",
        "print(\"Gráfico do Tempo Selection Sort\")\n",
        "print(\"\")\n",
        "print(\"\")\n",
        "fig, ax = plt.subplots()\n",
        "ax.plot(auxMelhorCaso, label=\"Pior Caso\")\n",
        "ax.legend()\n",
        "ax.plot(auxAleatorio, label=\"Aleatorio\")\n",
        "ax.legend()\n",
        "ax.plot(auxPiorCaso, label=\"Melhor Caso\")\n",
        "ax.legend()\n",
        "plt.show()\n",
        "\n",
        "### Merge Sort\n",
        "arrayAleatorioMerge = gera_arranjos_aleatorio(1000)\n",
        "arrayOrdenado = np.arange(1000)\n",
        "arrayDesordenado = np.arange(1000,0,-1)\n",
        "tempoOrdenado = tempo(mergeSort,arrayOrdenado)\n",
        "tempoDesordenado = tempo(mergeSort, arrayDesordenado)\n",
        "tempoAleatorio = tempo(mergeSort, arrayAleatorioMerge)\n",
        "\n",
        "print(\"Tempo de execução Merge sort\")\n",
        "#print(\"Array aleatório Ordenado:\", resultadoAleatorio[0])\n",
        "print(\"O tempo de execução do vetor aleatório foi de {:.5f}\" .format(tempoAleatorio),\"segundos\")\n",
        "print(\"\")\n",
        "#print(\"Array melhor caso ordenado:\", resultadoMelhorCaso[0])\n",
        "print(\"O tempo de execução do vetor ordenado foi de {:.5f}\" .format(tempoOrdenado),\"segundos\")\n",
        "print(\"\")\n",
        "#print(\"Array pior caso ordenado:\", resultadoPiorCaso[0])\n",
        "print(\"O tempo de execução do vetor desordenado de {:.5f}\" .format(tempoDesordenado),\"segundos\")\n",
        "print(\"\")\n",
        "\n",
        "\n",
        "###Quick Sort \n",
        "arrayAleatorioQuick = gera_arranjos_aleatorio(500)\n",
        "arrayOrdenadoQuick = np.arange(500)\n",
        "arrayDesordenadoQuick = np.arange(500,0,-1)\n",
        "tempoOrdenadoQuick = tempo(quick_sort,arrayOrdenadoQuick)\n",
        "tempoDesordenadoQuick = tempo(quick_sort, arrayDesordenadoQuick)\n",
        "tempoAletorioQuick = tempo(quick_sort, arrayAleatorioQuick)\n",
        "\n",
        "print(\"Tempo de execução Quick sort\")\n",
        "#print(\"Array aleatório Ordenado:\", resultadoAleatorio[0])\n",
        "print(\"O tempo de execução do pior caso foi de {:.5f}\" .format(tempoAletorioQuick),\"segundos\")\n",
        "print(\"\")\n",
        "#print(\"Array melhor caso ordenado:\", resultadoMelhorCaso[0])\n",
        "print(\"O tempo de execução do melhor caso foi de {:.5f}\" .format(tempoOrdenadoQuick),\"segundos\")\n",
        "print(\"\")\n",
        "#print(\"Array pior caso ordenado:\", resultadoPiorCaso[0])\n",
        "print(\"O tempo de execução do caso aleatório foi de {:.5f}\" .format(tempoDesordenadoQuick),\"segundos\")\n",
        "print(\"\")\n",
        "\n",
        "##1c) \n",
        "##Insertion Sort no melhor caso tem comportamento de O(n), pois no melhor caso o vetor ja vai estar ordenado, fazendo com que o algoritmo precise apenas fazer uma verificação básica.\n",
        "##No pior caso tem comportamento O(n²), pois no pior caso será um vetor ordenado na ordem reversa, (1+(n−1))∗n/2=(n2)/2 . Aplicando as diretrizes de simplificação, o Insertion Sort é Θ(n2).\n",
        "\n",
        "##Bubble Sort o melhor caso tem comportamento de O(n), pois no melhor caso o vetor ja vai estar ordenado, fazendo com que o algoritmo precise apenas fazer uma verificação básica\n",
        "##No pior caso tem comportamento O(n²), o pior caso ocorre quando uma matriz é classificada inversamente\n",
        "\n",
        "##Heap Sort terá tanto no pior caso quanto no melhor o comportamento de Θ(nlogn), Θ(n log2n) é o mesmo que Θ(n log n)\n",
        "\n",
        "##Selection Sort sempre terá comportamento de O(n²), ele faz sempre {(n^{2}-n)/2}comparações, independentemente do vetor estar ordenado ou não\n",
        "\n",
        "##Merge Sort sempre terá comportamento de Θ(n log n), A sua eficiência é a mesma para melhor, pior e caso médio, independentemente de como os dados do array estão organizados a ordenação será eficaz, \n",
        "\n",
        "##Quick Sort no pior caso terá comportamento de O(n²), T(n) = T(n-1) + T(0) + O(n) = T(n-1) + O(n) = O(n²)\n",
        "## O melhor caso de particionamento acontece quando ele produz duas listas de tamanho não maior que n/2, uma vez que uma lista terá tamanho [n/2] e outra tamanho [n/2] - 1. Nesse caso, o quicksort é executado com maior rapidez. A relação de recorrência é a seguinte:\n",
        "## T(N) <= 2T(n/2)+O(n) = O(nlogn)\n",
        "\n",
        "\n",
        "\n",
        "##2)\n",
        "###Quick Sort \n",
        "print(\"Tempo de execução Quick sort sem pivô aleatório\")\n",
        "#print(\"Array aleatório Ordenado:\", resultadoAleatorio[0])\n",
        "print(\"O tempo de execução do pior caso foi de {:.5f}\" .format(tempoAletorioQuick),\"segundos\")\n",
        "print(\"\")\n",
        "#print(\"Array melhor caso ordenado:\", resultadoMelhorCaso[0])\n",
        "print(\"O tempo de execução do melhor caso foi de {:.5f}\" .format(tempoOrdenadoQuick),\"segundos\")\n",
        "print(\"\")\n",
        "#print(\"Array pior caso ordenado:\", resultadoPiorCaso[0])\n",
        "print(\"O tempo de execução do caso aleatório foi de {:.5f}\" .format(tempoDesordenadoQuick),\"segundos\")\n",
        "print(\"\")\n",
        "\n",
        "###Quick Sort com pivô aleatório\n",
        "arrayAleatorioQuickPivo = gera_arranjos_aleatorio(500)\n",
        "arrayOrdenadoQuickPivo = np.arange(500)\n",
        "arrayDesordenadoQuickPivo = np.arange(500,0,-1)\n",
        "tempoOrdenadoQuickPivo = tempo(quick_sort_aleatorio,arrayOrdenadoQuickPivo)\n",
        "tempoDesordenadoQuickPivo = tempo(quick_sort_aleatorio, arrayDesordenadoQuickPivo)\n",
        "tempoAletorioQuickPivo = tempo(quick_sort_aleatorio, arrayAleatorioQuickPivo)\n",
        "\n",
        "print(\"Tempo de execução Quick sort com pivô aleatório\")\n",
        "#print(\"Array aleatório Ordenado:\", resultadoAleatorio[0])\n",
        "print(\"O tempo de execução do pior caso foi de {:.5f}\" .format(tempoAletorioQuickPivo),\"segundos\")\n",
        "print(\"\")\n",
        "#print(\"Array melhor caso ordenado:\", resultadoMelhorCaso[0])\n",
        "print(\"O tempo de execução do melhor caso foi de {:.5f}\" .format(tempoOrdenadoQuickPivo),\"segundos\")\n",
        "print(\"\")\n",
        "#print(\"Array pior caso ordenado:\", resultadoPiorCaso[0])\n",
        "print(\"O tempo de execução do caso aleatório foi de {:.5f}\" .format(tempoDesordenadoQuickPivo),\"segundos\")\n",
        "print(\"\")\n"
      ],
      "metadata": {
        "colab": {
          "base_uri": "https://localhost:8080/",
          "height": 1000
        },
        "id": "rJzKU-2EzAMC",
        "outputId": "dcb5b3ec-baaf-4239-f567-44398243e06e"
      },
      "execution_count": 82,
      "outputs": [
        {
          "output_type": "stream",
          "name": "stdout",
          "text": [
            "\n",
            "O tempo de execução foi de 0.00153 segundos\n",
            "\n",
            "O tempo de execução foi de 0.00004 segundos\n",
            "\n",
            "O tempo de execução foi de 0.00205 segundos\n",
            "\n",
            "Gráfico do Tempo Insertion Sort\n",
            "\n"
          ]
        },
        {
          "output_type": "display_data",
          "data": {
            "text/plain": [
              "<Figure size 432x288 with 1 Axes>"
            ],
            "image/png": "[encoded data removed]"
          },
          "metadata": {
            "needs_background": "light"
          }
        },
        {
          "output_type": "stream",
          "name": "stdout",
          "text": [
            "\n",
            "O tempo de execução foi de 0.02573 segundos\n",
            "\n",
            "O tempo de execução foi de 0.00006 segundos\n",
            "\n",
            "O tempo de execução foi de 0.02357 segundos\n",
            "\n",
            "Gráfico do Tempo Bubble Sort\n",
            "\n"
          ]
        },
        {
          "output_type": "display_data",
          "data": {
            "text/plain": [
              "<Figure size 432x288 with 1 Axes>"
            ],
            "image/png": "[encoded data removed]"
          },
          "metadata": {
            "needs_background": "light"
          }
        },
        {
          "output_type": "stream",
          "name": "stdout",
          "text": [
            "\n",
            "Gráfico do Tempo Heap Sort\n",
            "\n",
            "\n"
          ]
        },
        {
          "output_type": "display_data",
          "data": {
            "text/plain": [
              "<Figure size 432x288 with 1 Axes>"
            ],
            "image/png": "[encoded data removed]"
          },
          "metadata": {
            "needs_background": "light"
          }
        },
        {
          "output_type": "stream",
          "name": "stdout",
          "text": [
            "\n",
            "Gráfico do Tempo Selection Sort\n",
            "\n",
            "\n"
          ]
        },
        {
          "output_type": "display_data",
          "data": {
            "text/plain": [
              "<Figure size 432x288 with 1 Axes>"
            ],
            "image/png": "[encoded data removed]"
          },
          "metadata": {
            "needs_background": "light"
          }
        },
        {
          "output_type": "stream",
          "name": "stdout",
          "text": [
            "Tempo de execução Merge sort\n",
            "O tempo de execução do vetor aleatório foi de 0.00798 segundos\n",
            "\n",
            "O tempo de execução do vetor ordenado foi de 0.00804 segundos\n",
            "\n",
            "O tempo de execução do vetor desordenado de 0.00925 segundos\n",
            "\n",
            "Tempo de execução Quick sort\n",
            "O tempo de execução do pior caso foi de 0.00415 segundos\n",
            "\n",
            "O tempo de execução do melhor caso foi de 0.00353 segundos\n",
            "\n",
            "O tempo de execução do caso aleatório foi de 0.00409 segundos\n",
            "\n",
            "Tempo de execução Quick sort sem pivô aleatório\n",
            "O tempo de execução do pior caso foi de 0.00415 segundos\n",
            "\n",
            "O tempo de execução do melhor caso foi de 0.00353 segundos\n",
            "\n",
            "O tempo de execução do caso aleatório foi de 0.00409 segundos\n",
            "\n",
            "Tempo de execução Quick sort com pivô aleatório\n",
            "O tempo de execução do pior caso foi de 0.00510 segundos\n",
            "\n",
            "O tempo de execução do melhor caso foi de 0.00407 segundos\n",
            "\n",
            "O tempo de execução do caso aleatório foi de 0.00434 segundos\n",
            "\n"
          ]
        }
      ]
    },
    {
      "cell_type": "markdown",
      "source": [
        "# função que gera array aleatório"
      ],
      "metadata": {
        "id": "MTxWaDIS5ebH"
      }
    },
    {
      "cell_type": "code",
      "source": [
        "def gera_arranjos_aleatorio(n_elementos):\n",
        "  A=np.random.randint(0, 100, (n_elementos))\n",
        "  return A"
      ],
      "metadata": {
        "id": "x7Fec37W5jpb"
      },
      "execution_count": 2,
      "outputs": []
    },
    {
      "cell_type": "markdown",
      "source": [
        "# Importações e Variáveis globais"
      ],
      "metadata": {
        "id": "3k9cUuhjScHx"
      }
    },
    {
      "cell_type": "code",
      "source": [
        "import numpy as np\n",
        "import random\n",
        "import time\n",
        "from random import randrange\n",
        "import matplotlib.pyplot as plt"
      ],
      "metadata": {
        "id": "2MmMBRpiSeqA"
      },
      "execution_count": 64,
      "outputs": []
    },
    {
      "cell_type": "markdown",
      "source": [
        "# Funções de Ordenação\n",
        "\n",
        "> Utilize este espaço para definir as funções de ordenação vista em sala de aula"
      ],
      "metadata": {
        "id": "LLNxbAP6SnY4"
      }
    },
    {
      "cell_type": "markdown",
      "source": [
        "##Quick Sort com pivô Aleatório"
      ],
      "metadata": {
        "id": "OJVI37gnwKNX"
      }
    },
    {
      "cell_type": "code",
      "source": [
        "def tempo(algoritmo, arranjo):\n",
        "  inicio = time.time()\n",
        "  algoritmo(arranjo)\n",
        "  fim = time.time()\n",
        "  tempoExecucao = fim - inicio\n",
        "\n",
        "  return tempoExecucao\n",
        "def quick_sort_aleatorio(a, ini=0, fim=None):\n",
        "    fim = fim if fim is not None else len(a)\n",
        "    if ini < fim:\n",
        "        pp = particao(a, ini, fim)\n",
        "        quick_sort_aleatorio(a, ini, pp)\n",
        "        quick_sort_aleatorio(a, pp + 1, fim)\n",
        "    return a\n",
        "\n",
        "def particao(a, ini, fim):\n",
        "    rand = randrange(ini, fim)\n",
        "    a[rand], a[fim - 1] = a[fim - 1], a[rand]\n",
        "    pivo = a[fim - 1]\n",
        "    for i in range(ini, fim):\n",
        "        if a[i] > pivo:\n",
        "            fim += 1\n",
        "        else:\n",
        "            fim += 1\n",
        "            ini += 1\n",
        "            a[i], a[ini - 1] = a[ini - 1], a[i]\n",
        "    return ini - 1"
      ],
      "metadata": {
        "id": "ifAluL-VwMgk"
      },
      "execution_count": 73,
      "outputs": []
    },
    {
      "cell_type": "markdown",
      "source": [
        "## Heap Sort"
      ],
      "metadata": {
        "id": "bkbdgIr-Wbj1"
      }
    },
    {
      "cell_type": "code",
      "source": [
        "def tempo(algoritmo, arranjo):\n",
        "  inicio = time.time()\n",
        "  algoritmo(arranjo)\n",
        "  fim = time.time()\n",
        "  tempoExecucao = fim - inicio\n",
        "\n",
        "  return tempoExecucao\n",
        "  \n",
        "def heapify(arr, n, i):\n",
        "    largest = i\n",
        "    l = 2 * i + 1\n",
        "    r = 2 * i + 2\n",
        "  \n",
        "    if l < n and arr[largest] < arr[l]:\n",
        "        largest = l\n",
        "  \n",
        "    if r < n and arr[largest] < arr[r]:\n",
        "        largest = r\n",
        "  \n",
        "    if largest != i:\n",
        "        arr[i], arr[largest] = arr[largest], arr[i]\n",
        "  \n",
        "        heapify(arr, n, largest)\n",
        "  \n",
        "\n",
        "  \n",
        "def heapSort(arr):\n",
        "    n = len(arr)\n",
        "  \n",
        "    # Build a maxheap.\n",
        "    for i in range(n//2 - 1, -1, -1):\n",
        "        heapify(arr, n, i)\n",
        "  \n",
        "    # One by one extract elements\n",
        "    for i in range(n-1, 0, -1):\n",
        "        arr[i], arr[0] = arr[0], arr[i]  # swap\n",
        "        heapify(arr, i, 0)"
      ],
      "metadata": {
        "id": "Rfl-0SuUWecG"
      },
      "execution_count": 22,
      "outputs": []
    },
    {
      "cell_type": "markdown",
      "source": [
        "## Quick Sort\n",
        "\n",
        "> pivo = *A[A-comprimento]*"
      ],
      "metadata": {
        "id": "Nypb6WrSWTG6"
      }
    },
    {
      "cell_type": "code",
      "source": [
        "def tempo(algoritmo, arranjo):\n",
        "  inicio = time.time()\n",
        "  algoritmo(arranjo)\n",
        "  fim = time.time()\n",
        "  tempoExecucao = fim - inicio\n",
        "\n",
        "  return tempoExecucao\n",
        "def quick_sort(a, ini=0, fim=None):\n",
        "    fim = fim if fim is not None else len(a)\n",
        "    if ini < fim:\n",
        "        pp = particao(a, ini, fim)\n",
        "        quick_sort(a, ini, pp)\n",
        "        quick_sort(a, pp + 1, fim)\n",
        "    return a\n",
        "\n",
        "def particao(a, ini, fim):\n",
        "    pivo = a[fim - 1]\n",
        "    for i in range(ini, fim):\n",
        "        if a[i] > pivo:\n",
        "            fim += 1\n",
        "        else:\n",
        "            fim += 1\n",
        "            ini += 1\n",
        "            a[i], a[ini - 1] = a[ini - 1], a[i]\n",
        "    return ini - 1"
      ],
      "metadata": {
        "id": "-A-T0-u5WWNe"
      },
      "execution_count": 53,
      "outputs": []
    },
    {
      "cell_type": "markdown",
      "source": [
        "##  Insertion Sort\n"
      ],
      "metadata": {
        "id": "AlV1lMDyWDCs"
      }
    },
    {
      "cell_type": "code",
      "source": [
        "def tempo(algoritmo, arranjo):\n",
        "  inicio = time.time()\n",
        "  algoritmo(arranjo)\n",
        "  fim = time.time()\n",
        "  tempoExecucao = fim - inicio\n",
        "\n",
        "  return tempoExecucao\n",
        "\n",
        "def insertionSort(arranjo):\n",
        "    tempo = []\n",
        "    tempoTotal = []\n",
        "    inicio = time.time()\n",
        "    for j in range (1,len(arranjo)):\n",
        "      chave=arranjo[j]\n",
        "      i=j-1\n",
        "      while i>=0 and arranjo[i]>chave:\n",
        "        arranjo[i+1]=arranjo[i]\n",
        "        i=i-1\n",
        "    arranjo[i+1]=chave\n",
        "    fimAqui = time.time()\n",
        "    tempoExecucaoInteracao = fimAqui - inicio\n",
        "    tempo.insert(i, tempoExecucaoInteracao)\n",
        "    fim = time.time()\n",
        "    tempoExecucao = fim - inicio\n",
        "    tempoTotal.insert(i, tempoExecucao)\n",
        "\n",
        "    return arranjo, tempoExecucao, tempo, tempoTotal\n"
      ],
      "metadata": {
        "id": "jRgWXH2DWGhL"
      },
      "execution_count": 7,
      "outputs": []
    },
    {
      "cell_type": "markdown",
      "source": [
        "##  Bubble Sort\n"
      ],
      "metadata": {
        "id": "jyPl_Y5gT_Ah"
      }
    },
    {
      "cell_type": "code",
      "source": [
        "def tempo(algoritmo, arranjo):\n",
        "  inicio = time.time()\n",
        "  algoritmo(arranjo)\n",
        "  fim = time.time()\n",
        "  tempoExecucao = fim - inicio\n",
        "\n",
        "  return tempoExecucao\n",
        "\n",
        "def bubble_sort(lista):\n",
        "    elementos = len(lista)-1\n",
        "    ordenado = False\n",
        "    ini= time.time()\n",
        "    tempo = []\n",
        "    while not ordenado:\n",
        "        ordenado = True\n",
        "        for i in range(elementos):\n",
        "            if lista[i] > lista[i+1]:\n",
        "                lista[i], lista[i+1] = lista[i+1],lista[i]\n",
        "                ordenado = False\n",
        "            fimAqui = time.time()\n",
        "            tempoExecucaoInteracao = fimAqui - ini\n",
        "            tempo.insert(i, tempoExecucaoInteracao)\n",
        "    fim = time.time()\n",
        "    tempoExecucao = fim - ini\n",
        "    return lista, tempoExecucao, tempo"
      ],
      "metadata": {
        "id": "zRuYS-CFWBZM"
      },
      "execution_count": 9,
      "outputs": []
    },
    {
      "cell_type": "markdown",
      "source": [
        "##  Selection Sort\n"
      ],
      "metadata": {
        "id": "0daVaxEfTTOR"
      }
    },
    {
      "cell_type": "code",
      "source": [
        "def tempo(algoritmo, arranjo):\n",
        "  inicio = time.time()\n",
        "  algoritmo(arranjo)\n",
        "  fim = time.time()\n",
        "  tempoExecucao = fim - inicio\n",
        "\n",
        "  return tempoExecucao\n",
        "def selectionSort(lista):\n",
        "  ini= time.time()\n",
        "\n",
        "  for i in range(len(lista)):\n",
        "\n",
        "    menor = i\n",
        "\n",
        "    for j in range(i+1,len(lista)):\n",
        "\n",
        "        if lista[j] < lista[menor]:\n",
        "\n",
        "                menor = j\n",
        "\n",
        "    if lista[i] != lista[menor]:\n",
        "\n",
        "            aux = lista[i]\n",
        "\n",
        "            lista[i] = lista[menor]\n",
        "\n",
        "            lista[menor] = aux\n",
        "    fim = time.time()\n",
        "    tempoExecucao = fim - ini\n",
        "    return lista, tempoExecucao\n",
        "\n"
      ],
      "metadata": {
        "id": "oPNUhqHtTUnP"
      },
      "execution_count": 31,
      "outputs": []
    },
    {
      "cell_type": "markdown",
      "source": [
        "##  Merge Sort\n"
      ],
      "metadata": {
        "id": "ydRIytfVTFDo"
      }
    },
    {
      "cell_type": "code",
      "source": [
        "def tempo(algoritmo, arranjo):\n",
        "  inicio = time.time()\n",
        "  algoritmo(arranjo)\n",
        "  fim = time.time()\n",
        "  tempoExecucao = fim - inicio\n",
        "\n",
        "  return tempoExecucao\n",
        "def mergeSort(arr):\n",
        "    if len(arr) > 1:\n",
        " \n",
        "        mid = len(arr)//2\n",
        " \n",
        "        L = arr[:mid]\n",
        " \n",
        "        R = arr[mid:]\n",
        " \n",
        "        mergeSort(L)\n",
        "\n",
        "        mergeSort(R)\n",
        " \n",
        "        i = j = k = 0\n",
        "\n",
        "        while i < len(L) and j < len(R):\n",
        "            if L[i] < R[j]:\n",
        "                arr[k] = L[i]\n",
        "                i += 1\n",
        "            else:\n",
        "                arr[k] = R[j]\n",
        "                j += 1\n",
        "            k += 1\n",
        " \n",
        "        while i < len(L):\n",
        "            arr[k] = L[i]\n",
        "            i += 1\n",
        "            k += 1\n",
        " \n",
        "        while j < len(R):\n",
        "            arr[k] = R[j]\n",
        "            j += 1\n",
        "            k += 1"
      ],
      "metadata": {
        "id": "gblvm4RqTJEF"
      },
      "execution_count": 37,
      "outputs": []
    },
    {
      "cell_type": "markdown",
      "source": [
        ""
      ],
      "metadata": {
        "id": "v7s-JJW_Sr4X"
      }
    },
    {
      "cell_type": "code",
      "source": [
        "def insertionSort(arranjo):\n",
        "  #ini= time.time()\n",
        "  for j in range (1,len(arranjo)):\n",
        "    chave=arranjo[j]\n",
        "    i=j-1\n",
        "    #print('A[i..j-1] invariante de loop:', arranjo[:j])\n",
        "    while i>=0 and arranjo[i]>chave:\n",
        "      arranjo[i+1]=arranjo[i]\n",
        "      i=i-1\n",
        "    arranjo[i+1]=chave\n",
        "  #fim = time.time()\n",
        "  #tempo_exec=fim-ini\n",
        "  return arranjo "
      ],
      "metadata": {
        "id": "0NpIqzpySyJX"
      },
      "execution_count": null,
      "outputs": []
    }
  ]
}